{
 "cells": [
  {
   "cell_type": "code",
   "execution_count": 1,
   "id": "77c6f71c",
   "metadata": {},
   "outputs": [],
   "source": [
    "import pandas as pd\n",
    "import matplotlib.pyplot as plt\n",
    "import seaborn as sns\n",
    "import warnings\n",
    "warnings.filterwarnings('ignore')\n",
    "from sklearn.model_selection import train_test_split"
   ]
  },
  {
   "cell_type": "code",
   "execution_count": 2,
   "id": "f27e350e",
   "metadata": {},
   "outputs": [],
   "source": [
    "car = pd.read_csv('CarPricePred.csv')"
   ]
  },
  {
   "cell_type": "code",
   "execution_count": 3,
   "id": "fbdbd1f1",
   "metadata": {},
   "outputs": [
    {
     "data": {
      "text/plain": [
       "Index(['Brand', 'Price', 'Body', 'Mileage', 'EngineV', 'Engine Type',\n",
       "       'Registration', 'Year', 'Model'],\n",
       "      dtype='object')"
      ]
     },
     "execution_count": 3,
     "metadata": {},
     "output_type": "execute_result"
    }
   ],
   "source": [
    "car.columns"
   ]
  },
  {
   "cell_type": "code",
   "execution_count": 4,
   "id": "f9992b1c",
   "metadata": {},
   "outputs": [
    {
     "data": {
      "text/plain": [
       "(4345, 9)"
      ]
     },
     "execution_count": 4,
     "metadata": {},
     "output_type": "execute_result"
    }
   ],
   "source": [
    "car.shape"
   ]
  },
  {
   "cell_type": "code",
   "execution_count": 5,
   "id": "f3437019",
   "metadata": {},
   "outputs": [
    {
     "name": "stdout",
     "output_type": "stream",
     "text": [
      "Total Rows: 4345\n",
      "Total Columns: 9\n"
     ]
    }
   ],
   "source": [
    "print(f\"Total Rows: {car.shape[0]}\\nTotal Columns: {car.shape[1]}\")"
   ]
  },
  {
   "cell_type": "code",
   "execution_count": 6,
   "id": "0b5b9447",
   "metadata": {
    "collapsed": true
   },
   "outputs": [
    {
     "name": "stdout",
     "output_type": "stream",
     "text": [
      "<class 'pandas.core.frame.DataFrame'>\n",
      "RangeIndex: 4345 entries, 0 to 4344\n",
      "Data columns (total 9 columns):\n",
      " #   Column        Non-Null Count  Dtype  \n",
      "---  ------        --------------  -----  \n",
      " 0   Brand         4345 non-null   object \n",
      " 1   Price         4173 non-null   float64\n",
      " 2   Body          4345 non-null   object \n",
      " 3   Mileage       4345 non-null   int64  \n",
      " 4   EngineV       4195 non-null   float64\n",
      " 5   Engine Type   4345 non-null   object \n",
      " 6   Registration  4345 non-null   object \n",
      " 7   Year          4345 non-null   int64  \n",
      " 8   Model         4345 non-null   object \n",
      "dtypes: float64(2), int64(2), object(5)\n",
      "memory usage: 305.6+ KB\n"
     ]
    }
   ],
   "source": [
    "car.info()"
   ]
  },
  {
   "cell_type": "code",
   "execution_count": 7,
   "id": "2bcc7907",
   "metadata": {
    "collapsed": true
   },
   "outputs": [
    {
     "data": {
      "text/plain": [
       "E-Class    199\n",
       "A6         172\n",
       "Vito       171\n",
       "Kangoo     146\n",
       "Camry      134\n",
       "          ... \n",
       "5            1\n",
       "S5           1\n",
       "21           1\n",
       "Vista        1\n",
       "Scion        1\n",
       "Name: Model, Length: 312, dtype: int64"
      ]
     },
     "execution_count": 7,
     "metadata": {},
     "output_type": "execute_result"
    }
   ],
   "source": [
    "car['Model'].value_counts()"
   ]
  },
  {
   "cell_type": "code",
   "execution_count": 8,
   "id": "cabeffad",
   "metadata": {},
   "outputs": [
    {
     "data": {
      "text/plain": [
       "Brand             0\n",
       "Price           172\n",
       "Body              0\n",
       "Mileage           0\n",
       "EngineV         150\n",
       "Engine Type       0\n",
       "Registration      0\n",
       "Year              0\n",
       "Model             0\n",
       "dtype: int64"
      ]
     },
     "execution_count": 8,
     "metadata": {},
     "output_type": "execute_result"
    }
   ],
   "source": [
    "car.isnull().sum()"
   ]
  },
  {
   "cell_type": "code",
   "execution_count": 9,
   "id": "b7a62884",
   "metadata": {},
   "outputs": [],
   "source": [
    "## There Are Miner Null Values In Data Set So We Have to Delete it\n",
    "car = car.dropna()"
   ]
  },
  {
   "cell_type": "code",
   "execution_count": 10,
   "id": "79a4c0db",
   "metadata": {
    "collapsed": true
   },
   "outputs": [
    {
     "data": {
      "text/plain": [
       "Brand           0\n",
       "Price           0\n",
       "Body            0\n",
       "Mileage         0\n",
       "EngineV         0\n",
       "Engine Type     0\n",
       "Registration    0\n",
       "Year            0\n",
       "Model           0\n",
       "dtype: int64"
      ]
     },
     "execution_count": 10,
     "metadata": {},
     "output_type": "execute_result"
    }
   ],
   "source": [
    "car.isnull().sum()"
   ]
  },
  {
   "cell_type": "code",
   "execution_count": 12,
   "id": "9af2e110",
   "metadata": {},
   "outputs": [
    {
     "data": {
      "text/html": [
       "<div>\n",
       "<style scoped>\n",
       "    .dataframe tbody tr th:only-of-type {\n",
       "        vertical-align: middle;\n",
       "    }\n",
       "\n",
       "    .dataframe tbody tr th {\n",
       "        vertical-align: top;\n",
       "    }\n",
       "\n",
       "    .dataframe thead th {\n",
       "        text-align: right;\n",
       "    }\n",
       "</style>\n",
       "<table border=\"1\" class=\"dataframe\">\n",
       "  <thead>\n",
       "    <tr style=\"text-align: right;\">\n",
       "      <th></th>\n",
       "      <th>count</th>\n",
       "      <th>mean</th>\n",
       "      <th>std</th>\n",
       "      <th>min</th>\n",
       "      <th>25%</th>\n",
       "      <th>50%</th>\n",
       "      <th>75%</th>\n",
       "      <th>max</th>\n",
       "    </tr>\n",
       "  </thead>\n",
       "  <tbody>\n",
       "    <tr>\n",
       "      <th>Price</th>\n",
       "      <td>4025.0</td>\n",
       "      <td>19552.308065</td>\n",
       "      <td>25815.734988</td>\n",
       "      <td>600.0</td>\n",
       "      <td>6999.0</td>\n",
       "      <td>11500.0</td>\n",
       "      <td>21900.0</td>\n",
       "      <td>300000.00</td>\n",
       "    </tr>\n",
       "    <tr>\n",
       "      <th>Mileage</th>\n",
       "      <td>4025.0</td>\n",
       "      <td>163.572174</td>\n",
       "      <td>103.394703</td>\n",
       "      <td>0.0</td>\n",
       "      <td>90.0</td>\n",
       "      <td>158.0</td>\n",
       "      <td>230.0</td>\n",
       "      <td>980.00</td>\n",
       "    </tr>\n",
       "    <tr>\n",
       "      <th>EngineV</th>\n",
       "      <td>4025.0</td>\n",
       "      <td>2.764586</td>\n",
       "      <td>4.935941</td>\n",
       "      <td>0.6</td>\n",
       "      <td>1.8</td>\n",
       "      <td>2.2</td>\n",
       "      <td>3.0</td>\n",
       "      <td>99.99</td>\n",
       "    </tr>\n",
       "    <tr>\n",
       "      <th>Year</th>\n",
       "      <td>4025.0</td>\n",
       "      <td>2006.379627</td>\n",
       "      <td>6.695595</td>\n",
       "      <td>1969.0</td>\n",
       "      <td>2003.0</td>\n",
       "      <td>2007.0</td>\n",
       "      <td>2012.0</td>\n",
       "      <td>2016.00</td>\n",
       "    </tr>\n",
       "  </tbody>\n",
       "</table>\n",
       "</div>"
      ],
      "text/plain": [
       "          count          mean           std     min     25%      50%      75%  \\\n",
       "Price    4025.0  19552.308065  25815.734988   600.0  6999.0  11500.0  21900.0   \n",
       "Mileage  4025.0    163.572174    103.394703     0.0    90.0    158.0    230.0   \n",
       "EngineV  4025.0      2.764586      4.935941     0.6     1.8      2.2      3.0   \n",
       "Year     4025.0   2006.379627      6.695595  1969.0  2003.0   2007.0   2012.0   \n",
       "\n",
       "               max  \n",
       "Price    300000.00  \n",
       "Mileage     980.00  \n",
       "EngineV      99.99  \n",
       "Year       2016.00  "
      ]
     },
     "execution_count": 12,
     "metadata": {},
     "output_type": "execute_result"
    }
   ],
   "source": [
    "# Statical Information Of Our Data\n",
    "car.describe().T"
   ]
  },
  {
   "cell_type": "code",
   "execution_count": 14,
   "id": "e751330d",
   "metadata": {
    "collapsed": true
   },
   "outputs": [
    {
     "data": {
      "image/png": "[encoded data removed]",
      "text/plain": [
       "<Figure size 432x288 with 2 Axes>"
      ]
     },
     "metadata": {
      "needs_background": "light"
     },
     "output_type": "display_data"
    }
   ],
   "source": [
    "sns.heatmap(car.corr(),annot=True)\n",
    "plt.show()"
   ]
  },
  {
   "cell_type": "code",
   "execution_count": 26,
   "id": "b8eb1994",
   "metadata": {
    "collapsed": true
   },
   "outputs": [
    {
     "data": {
      "image/png": "[encoded data removed]",
      "text/plain": [
       "<Figure size 576x432 with 1 Axes>"
      ]
     },
     "metadata": {
      "needs_background": "light"
     },
     "output_type": "display_data"
    }
   ],
   "source": [
    "plt.figure(figsize=(8,6))\n",
    "sns.boxplot(x=car['Price'])\n",
    "plt.show()"
   ]
  },
  {
   "cell_type": "code",
   "execution_count": 17,
   "id": "cc8ecb18",
   "metadata": {},
   "outputs": [],
   "source": [
    "## checking Outlires"
   ]
  },
  {
   "cell_type": "code",
   "execution_count": 18,
   "id": "d6d14100",
   "metadata": {},
   "outputs": [],
   "source": [
    "price_Q1 = car['Price'].quantile(0.25)\n",
    "price_Q3 = car['Price'].quantile(0.75)"
   ]
  },
  {
   "cell_type": "code",
   "execution_count": 19,
   "id": "a39270f5",
   "metadata": {},
   "outputs": [],
   "source": [
    "P_IQR = price_Q3-price_Q1"
   ]
  },
  {
   "cell_type": "code",
   "execution_count": 20,
   "id": "4b1d178a",
   "metadata": {},
   "outputs": [],
   "source": [
    "lower_limit = price_Q1-1.5*(P_IQR)\n",
    "upper_limit = price_Q3+1.5*(P_IQR)"
   ]
  },
  {
   "cell_type": "code",
   "execution_count": 21,
   "id": "2734944f",
   "metadata": {},
   "outputs": [
    {
     "name": "stdout",
     "output_type": "stream",
     "text": [
      "Lower Price -> -15352.5\n",
      "Upper Price-> 44251.5\n"
     ]
    }
   ],
   "source": [
    "print(f'Lower Price -> {lower_limit}\\nUpper Price-> {upper_limit}')"
   ]
  },
  {
   "cell_type": "code",
   "execution_count": 25,
   "id": "08c77d5b",
   "metadata": {},
   "outputs": [],
   "source": [
    "New_CarPrice = car[(car['Price']>lower_limit) & (car['Price']<upper_limit)]"
   ]
  },
  {
   "cell_type": "code",
   "execution_count": 27,
   "id": "5362ce2c",
   "metadata": {},
   "outputs": [
    {
     "data": {
      "image/png": "[encoded data removed]",
      "text/plain": [
       "<Figure size 576x432 with 1 Axes>"
      ]
     },
     "metadata": {
      "needs_background": "light"
     },
     "output_type": "display_data"
    }
   ],
   "source": [
    "plt.figure(figsize=(8,6))\n",
    "sns.boxplot(x=New_CarPrice['Price'])\n",
    "plt.show()"
   ]
  },
  {
   "cell_type": "code",
   "execution_count": 28,
   "id": "8954c0ec",
   "metadata": {},
   "outputs": [
    {
     "data": {
      "text/html": [
       "<div>\n",
       "<style scoped>\n",
       "    .dataframe tbody tr th:only-of-type {\n",
       "        vertical-align: middle;\n",
       "    }\n",
       "\n",
       "    .dataframe tbody tr th {\n",
       "        vertical-align: top;\n",
       "    }\n",
       "\n",
       "    .dataframe thead th {\n",
       "        text-align: right;\n",
       "    }\n",
       "</style>\n",
       "<table border=\"1\" class=\"dataframe\">\n",
       "  <thead>\n",
       "    <tr style=\"text-align: right;\">\n",
       "      <th></th>\n",
       "      <th>Brand</th>\n",
       "      <th>Price</th>\n",
       "      <th>Body</th>\n",
       "      <th>Mileage</th>\n",
       "      <th>EngineV</th>\n",
       "      <th>Engine Type</th>\n",
       "      <th>Registration</th>\n",
       "      <th>Year</th>\n",
       "      <th>Model</th>\n",
       "    </tr>\n",
       "  </thead>\n",
       "  <tbody>\n",
       "    <tr>\n",
       "      <th>0</th>\n",
       "      <td>BMW</td>\n",
       "      <td>4200.0</td>\n",
       "      <td>sedan</td>\n",
       "      <td>277</td>\n",
       "      <td>2.0</td>\n",
       "      <td>Petrol</td>\n",
       "      <td>yes</td>\n",
       "      <td>1991</td>\n",
       "      <td>320</td>\n",
       "    </tr>\n",
       "    <tr>\n",
       "      <th>1</th>\n",
       "      <td>Mercedes-Benz</td>\n",
       "      <td>7900.0</td>\n",
       "      <td>van</td>\n",
       "      <td>427</td>\n",
       "      <td>2.9</td>\n",
       "      <td>Diesel</td>\n",
       "      <td>yes</td>\n",
       "      <td>1999</td>\n",
       "      <td>Sprinter 212</td>\n",
       "    </tr>\n",
       "    <tr>\n",
       "      <th>2</th>\n",
       "      <td>Mercedes-Benz</td>\n",
       "      <td>13300.0</td>\n",
       "      <td>sedan</td>\n",
       "      <td>358</td>\n",
       "      <td>5.0</td>\n",
       "      <td>Gas</td>\n",
       "      <td>yes</td>\n",
       "      <td>2003</td>\n",
       "      <td>S 500</td>\n",
       "    </tr>\n",
       "    <tr>\n",
       "      <th>3</th>\n",
       "      <td>Audi</td>\n",
       "      <td>23000.0</td>\n",
       "      <td>crossover</td>\n",
       "      <td>240</td>\n",
       "      <td>4.2</td>\n",
       "      <td>Petrol</td>\n",
       "      <td>yes</td>\n",
       "      <td>2007</td>\n",
       "      <td>Q7</td>\n",
       "    </tr>\n",
       "    <tr>\n",
       "      <th>4</th>\n",
       "      <td>Toyota</td>\n",
       "      <td>18300.0</td>\n",
       "      <td>crossover</td>\n",
       "      <td>120</td>\n",
       "      <td>2.0</td>\n",
       "      <td>Petrol</td>\n",
       "      <td>yes</td>\n",
       "      <td>2011</td>\n",
       "      <td>Rav 4</td>\n",
       "    </tr>\n",
       "  </tbody>\n",
       "</table>\n",
       "</div>"
      ],
      "text/plain": [
       "           Brand    Price       Body  Mileage  EngineV Engine Type  \\\n",
       "0            BMW   4200.0      sedan      277      2.0      Petrol   \n",
       "1  Mercedes-Benz   7900.0        van      427      2.9      Diesel   \n",
       "2  Mercedes-Benz  13300.0      sedan      358      5.0         Gas   \n",
       "3           Audi  23000.0  crossover      240      4.2      Petrol   \n",
       "4         Toyota  18300.0  crossover      120      2.0      Petrol   \n",
       "\n",
       "  Registration  Year         Model  \n",
       "0          yes  1991           320  \n",
       "1          yes  1999  Sprinter 212  \n",
       "2          yes  2003         S 500  \n",
       "3          yes  2007            Q7  \n",
       "4          yes  2011         Rav 4  "
      ]
     },
     "execution_count": 28,
     "metadata": {},
     "output_type": "execute_result"
    }
   ],
   "source": [
    "New_CarPrice.head()"
   ]
  },
  {
   "cell_type": "code",
   "execution_count": 29,
   "id": "dc36a50f",
   "metadata": {},
   "outputs": [],
   "source": [
    "## Checking Outlires In Mileage"
   ]
  },
  {
   "cell_type": "code",
   "execution_count": 35,
   "id": "ddc4a52b",
   "metadata": {},
   "outputs": [
    {
     "data": {
      "image/png": "[encoded data removed]",
      "text/plain": [
       "<Figure size 576x432 with 1 Axes>"
      ]
     },
     "metadata": {
      "needs_background": "light"
     },
     "output_type": "display_data"
    }
   ],
   "source": [
    "plt.figure(figsize=(8,6))\n",
    "sns.boxplot(x=New_CarPrice['Mileage'])\n",
    "plt.show()"
   ]
  },
  {
   "cell_type": "code",
   "execution_count": null,
   "id": "0355a1b1",
   "metadata": {},
   "outputs": [],
   "source": []
  },
  {
   "cell_type": "code",
   "execution_count": 30,
   "id": "8f62fdad",
   "metadata": {},
   "outputs": [],
   "source": [
    "mileage_Q1 = car['Price'].quantile(0.25)\n",
    "mileage_Q3 = car['Price'].quantile(0.75)"
   ]
  },
  {
   "cell_type": "code",
   "execution_count": 31,
   "id": "20a84061",
   "metadata": {},
   "outputs": [],
   "source": [
    "Mile_IQR = mileage_Q3-mileage_Q1"
   ]
  },
  {
   "cell_type": "code",
   "execution_count": 32,
   "id": "ea896819",
   "metadata": {},
   "outputs": [],
   "source": [
    "lower_mileage = mileage_Q1-1.5*(Mile_IQR)\n",
    "upper_mileage = mileage_Q3+1.5*(Mile_IQR)"
   ]
  },
  {
   "cell_type": "code",
   "execution_count": 33,
   "id": "747eccf7",
   "metadata": {},
   "outputs": [
    {
     "name": "stdout",
     "output_type": "stream",
     "text": [
      "Lower Price -> -15352.5\n",
      "Upper Price-> 44251.5\n"
     ]
    }
   ],
   "source": [
    "print(f'Lower Price -> {lower_mileage}\\nUpper Price-> {upper_mileage}')"
   ]
  },
  {
   "cell_type": "code",
   "execution_count": 34,
   "id": "d160c99e",
   "metadata": {},
   "outputs": [],
   "source": [
    "New_Car_Mile = New_CarPrice[(New_CarPrice['Mileage']>lower_mileage) & (New_CarPrice['Mileage']<upper_mileage)]"
   ]
  },
  {
   "cell_type": "code",
   "execution_count": 36,
   "id": "c6b09613",
   "metadata": {},
   "outputs": [
    {
     "data": {
      "image/png": "[encoded data removed]",
      "text/plain": [
       "<Figure size 576x432 with 1 Axes>"
      ]
     },
     "metadata": {
      "needs_background": "light"
     },
     "output_type": "display_data"
    }
   ],
   "source": [
    "plt.figure(figsize=(8,6))\n",
    "sns.boxplot(x=New_Car_Mile['Mileage'])\n",
    "plt.show()"
   ]
  },
  {
   "cell_type": "code",
   "execution_count": 39,
   "id": "027cc212",
   "metadata": {},
   "outputs": [
    {
     "data": {
      "text/plain": [
       "count    3670.000000\n",
       "mean      175.567575\n",
       "std        97.581022\n",
       "min         0.000000\n",
       "25%       108.000000\n",
       "50%       168.000000\n",
       "75%       238.000000\n",
       "max       800.000000\n",
       "Name: Mileage, dtype: float64"
      ]
     },
     "execution_count": 39,
     "metadata": {},
     "output_type": "execute_result"
    }
   ],
   "source": [
    "New_CarPrice['Mileage'].describe()"
   ]
  },
  {
   "cell_type": "code",
   "execution_count": 37,
   "id": "81ed33e4",
   "metadata": {},
   "outputs": [],
   "source": [
    "New_Car_Mile = New_CarPrice[(New_CarPrice['Mileage']<=400)]"
   ]
  },
  {
   "cell_type": "code",
   "execution_count": 38,
   "id": "abb5da82",
   "metadata": {},
   "outputs": [
    {
     "data": {
      "image/png": "[encoded data removed]",
      "text/plain": [
       "<Figure size 576x432 with 1 Axes>"
      ]
     },
     "metadata": {
      "needs_background": "light"
     },
     "output_type": "display_data"
    }
   ],
   "source": [
    "plt.figure(figsize=(8,6))\n",
    "sns.boxplot(x=New_Car_Mile['Mileage'])\n",
    "plt.show()"
   ]
  },
  {
   "cell_type": "code",
   "execution_count": 40,
   "id": "3ff25091",
   "metadata": {},
   "outputs": [
    {
     "data": {
      "text/html": [
       "<div>\n",
       "<style scoped>\n",
       "    .dataframe tbody tr th:only-of-type {\n",
       "        vertical-align: middle;\n",
       "    }\n",
       "\n",
       "    .dataframe tbody tr th {\n",
       "        vertical-align: top;\n",
       "    }\n",
       "\n",
       "    .dataframe thead th {\n",
       "        text-align: right;\n",
       "    }\n",
       "</style>\n",
       "<table border=\"1\" class=\"dataframe\">\n",
       "  <thead>\n",
       "    <tr style=\"text-align: right;\">\n",
       "      <th></th>\n",
       "      <th>Brand</th>\n",
       "      <th>Price</th>\n",
       "      <th>Body</th>\n",
       "      <th>Mileage</th>\n",
       "      <th>EngineV</th>\n",
       "      <th>Engine Type</th>\n",
       "      <th>Registration</th>\n",
       "      <th>Year</th>\n",
       "      <th>Model</th>\n",
       "    </tr>\n",
       "  </thead>\n",
       "  <tbody>\n",
       "    <tr>\n",
       "      <th>2742</th>\n",
       "      <td>Mercedes-Benz</td>\n",
       "      <td>7000.0</td>\n",
       "      <td>other</td>\n",
       "      <td>260</td>\n",
       "      <td>2.2</td>\n",
       "      <td>Diesel</td>\n",
       "      <td>yes</td>\n",
       "      <td>2000</td>\n",
       "      <td>Vito</td>\n",
       "    </tr>\n",
       "  </tbody>\n",
       "</table>\n",
       "</div>"
      ],
      "text/plain": [
       "              Brand   Price   Body  Mileage  EngineV Engine Type Registration  \\\n",
       "2742  Mercedes-Benz  7000.0  other      260      2.2      Diesel          yes   \n",
       "\n",
       "      Year Model  \n",
       "2742  2000  Vito  "
      ]
     },
     "execution_count": 40,
     "metadata": {},
     "output_type": "execute_result"
    }
   ],
   "source": [
    "New_Car_Mile.sample()"
   ]
  },
  {
   "cell_type": "code",
   "execution_count": 41,
   "id": "973117f7",
   "metadata": {},
   "outputs": [
    {
     "data": {
      "text/plain": [
       "count    3611.000000\n",
       "mean        2.702858\n",
       "std         5.192705\n",
       "min         0.600000\n",
       "25%         1.800000\n",
       "50%         2.000000\n",
       "75%         2.800000\n",
       "max        99.990000\n",
       "Name: EngineV, dtype: float64"
      ]
     },
     "execution_count": 41,
     "metadata": {},
     "output_type": "execute_result"
    }
   ],
   "source": [
    "New_Car_Mile['EngineV'].describe()"
   ]
  },
  {
   "cell_type": "code",
   "execution_count": 42,
   "id": "75e48512",
   "metadata": {},
   "outputs": [
    {
     "data": {
      "image/png": "[encoded data removed]",
      "text/plain": [
       "<Figure size 576x432 with 1 Axes>"
      ]
     },
     "metadata": {
      "needs_background": "light"
     },
     "output_type": "display_data"
    }
   ],
   "source": [
    "plt.figure(figsize=(8,6))\n",
    "sns.boxplot(x=New_Car_Mile['EngineV'])\n",
    "plt.show()"
   ]
  },
  {
   "cell_type": "code",
   "execution_count": 49,
   "id": "9542c500",
   "metadata": {},
   "outputs": [],
   "source": [
    "New_CarEng = New_Car_Mile[(New_Car_Mile['EngineV']<=2.80) & (New_Car_Mile['EngineV']>0.70)]"
   ]
  },
  {
   "cell_type": "code",
   "execution_count": 50,
   "id": "6ae4e393",
   "metadata": {},
   "outputs": [
    {
     "data": {
      "image/png": "[encoded data removed]",
      "text/plain": [
       "<Figure size 576x432 with 1 Axes>"
      ]
     },
     "metadata": {
      "needs_background": "light"
     },
     "output_type": "display_data"
    }
   ],
   "source": [
    "plt.figure(figsize=(8,6))\n",
    "sns.boxplot(x=New_CarEng['EngineV'])\n",
    "plt.show()"
   ]
  },
  {
   "cell_type": "code",
   "execution_count": 55,
   "id": "e2c9ede5",
   "metadata": {},
   "outputs": [
    {
     "data": {
      "image/png": "[encoded data removed]",
      "text/plain": [
       "<Figure size 576x432 with 1 Axes>"
      ]
     },
     "metadata": {
      "needs_background": "light"
     },
     "output_type": "display_data"
    }
   ],
   "source": [
    "## Checking Outlire In Year Columns\n",
    "plt.figure(figsize=(8,6))\n",
    "sns.boxplot(x=New_CarEng['Year'])\n",
    "plt.show()"
   ]
  },
  {
   "cell_type": "code",
   "execution_count": 56,
   "id": "5aee5c44",
   "metadata": {},
   "outputs": [],
   "source": [
    "New_YearData = New_CarEng[(New_CarEng['Year']>1990)]"
   ]
  },
  {
   "cell_type": "code",
   "execution_count": 57,
   "id": "b70f2ec3",
   "metadata": {},
   "outputs": [
    {
     "data": {
      "image/png": "[encoded data removed]",
      "text/plain": [
       "<Figure size 576x432 with 1 Axes>"
      ]
     },
     "metadata": {
      "needs_background": "light"
     },
     "output_type": "display_data"
    }
   ],
   "source": [
    "## Checking Outlire In Year Columns\n",
    "plt.figure(figsize=(8,6))\n",
    "sns.boxplot(x=New_YearData['Year'])\n",
    "plt.show()"
   ]
  },
  {
   "cell_type": "code",
   "execution_count": null,
   "id": "0ca5f340",
   "metadata": {},
   "outputs": [],
   "source": []
  },
  {
   "cell_type": "code",
   "execution_count": null,
   "id": "a4aad666",
   "metadata": {},
   "outputs": [],
   "source": []
  },
  {
   "cell_type": "code",
   "execution_count": null,
   "id": "db1cc864",
   "metadata": {},
   "outputs": [],
   "source": []
  },
  {
   "cell_type": "code",
   "execution_count": 58,
   "id": "9475ed5d",
   "metadata": {},
   "outputs": [
    {
     "data": {
      "text/html": [
       "<div>\n",
       "<style scoped>\n",
       "    .dataframe tbody tr th:only-of-type {\n",
       "        vertical-align: middle;\n",
       "    }\n",
       "\n",
       "    .dataframe tbody tr th {\n",
       "        vertical-align: top;\n",
       "    }\n",
       "\n",
       "    .dataframe thead th {\n",
       "        text-align: right;\n",
       "    }\n",
       "</style>\n",
       "<table border=\"1\" class=\"dataframe\">\n",
       "  <thead>\n",
       "    <tr style=\"text-align: right;\">\n",
       "      <th></th>\n",
       "      <th>Brand</th>\n",
       "      <th>Price</th>\n",
       "      <th>Body</th>\n",
       "      <th>Mileage</th>\n",
       "      <th>EngineV</th>\n",
       "      <th>Engine Type</th>\n",
       "      <th>Registration</th>\n",
       "      <th>Year</th>\n",
       "      <th>Model</th>\n",
       "    </tr>\n",
       "  </thead>\n",
       "  <tbody>\n",
       "    <tr>\n",
       "      <th>0</th>\n",
       "      <td>BMW</td>\n",
       "      <td>4200.0</td>\n",
       "      <td>sedan</td>\n",
       "      <td>277</td>\n",
       "      <td>2.0</td>\n",
       "      <td>Petrol</td>\n",
       "      <td>yes</td>\n",
       "      <td>1991</td>\n",
       "      <td>320</td>\n",
       "    </tr>\n",
       "    <tr>\n",
       "      <th>4</th>\n",
       "      <td>Toyota</td>\n",
       "      <td>18300.0</td>\n",
       "      <td>crossover</td>\n",
       "      <td>120</td>\n",
       "      <td>2.0</td>\n",
       "      <td>Petrol</td>\n",
       "      <td>yes</td>\n",
       "      <td>2011</td>\n",
       "      <td>Rav 4</td>\n",
       "    </tr>\n",
       "    <tr>\n",
       "      <th>7</th>\n",
       "      <td>Audi</td>\n",
       "      <td>14200.0</td>\n",
       "      <td>vagon</td>\n",
       "      <td>200</td>\n",
       "      <td>2.7</td>\n",
       "      <td>Diesel</td>\n",
       "      <td>yes</td>\n",
       "      <td>2006</td>\n",
       "      <td>A6</td>\n",
       "    </tr>\n",
       "  </tbody>\n",
       "</table>\n",
       "</div>"
      ],
      "text/plain": [
       "    Brand    Price       Body  Mileage  EngineV Engine Type Registration  \\\n",
       "0     BMW   4200.0      sedan      277      2.0      Petrol          yes   \n",
       "4  Toyota  18300.0  crossover      120      2.0      Petrol          yes   \n",
       "7    Audi  14200.0      vagon      200      2.7      Diesel          yes   \n",
       "\n",
       "   Year  Model  \n",
       "0  1991    320  \n",
       "4  2011  Rav 4  \n",
       "7  2006     A6  "
      ]
     },
     "execution_count": 58,
     "metadata": {},
     "output_type": "execute_result"
    }
   ],
   "source": [
    "New_YearData.head(3)"
   ]
  },
  {
   "cell_type": "code",
   "execution_count": 61,
   "id": "491162ae",
   "metadata": {},
   "outputs": [],
   "source": [
    "## dropping Model columns From Data Set, coz We Dont Need it\n",
    "New_YearData = New_YearData.drop('Model',axis=1)"
   ]
  },
  {
   "cell_type": "code",
   "execution_count": 62,
   "id": "a246e714",
   "metadata": {},
   "outputs": [
    {
     "data": {
      "text/html": [
       "<div>\n",
       "<style scoped>\n",
       "    .dataframe tbody tr th:only-of-type {\n",
       "        vertical-align: middle;\n",
       "    }\n",
       "\n",
       "    .dataframe tbody tr th {\n",
       "        vertical-align: top;\n",
       "    }\n",
       "\n",
       "    .dataframe thead th {\n",
       "        text-align: right;\n",
       "    }\n",
       "</style>\n",
       "<table border=\"1\" class=\"dataframe\">\n",
       "  <thead>\n",
       "    <tr style=\"text-align: right;\">\n",
       "      <th></th>\n",
       "      <th>Brand</th>\n",
       "      <th>Price</th>\n",
       "      <th>Body</th>\n",
       "      <th>Mileage</th>\n",
       "      <th>EngineV</th>\n",
       "      <th>Engine Type</th>\n",
       "      <th>Registration</th>\n",
       "      <th>Year</th>\n",
       "    </tr>\n",
       "  </thead>\n",
       "  <tbody>\n",
       "    <tr>\n",
       "      <th>4263</th>\n",
       "      <td>BMW</td>\n",
       "      <td>5900.0</td>\n",
       "      <td>vagon</td>\n",
       "      <td>220</td>\n",
       "      <td>2.8</td>\n",
       "      <td>Petrol</td>\n",
       "      <td>yes</td>\n",
       "      <td>1995</td>\n",
       "    </tr>\n",
       "  </tbody>\n",
       "</table>\n",
       "</div>"
      ],
      "text/plain": [
       "     Brand   Price   Body  Mileage  EngineV Engine Type Registration  Year\n",
       "4263   BMW  5900.0  vagon      220      2.8      Petrol          yes  1995"
      ]
     },
     "execution_count": 62,
     "metadata": {},
     "output_type": "execute_result"
    }
   ],
   "source": [
    "New_YearData.sample()"
   ]
  },
  {
   "cell_type": "code",
   "execution_count": 63,
   "id": "ca4079e9",
   "metadata": {},
   "outputs": [],
   "source": [
    "## Creating dummies through pandas\n",
    "df = pd.get_dummies(data=New_YearData,columns=['Brand','Body','Engine Type','Registration'])"
   ]
  },
  {
   "cell_type": "code",
   "execution_count": 65,
   "id": "f318d717",
   "metadata": {},
   "outputs": [],
   "source": [
    "pd.set_option('display.max_columns',None)\n",
    "pd.set_option('display.max_rows',None)"
   ]
  },
  {
   "cell_type": "code",
   "execution_count": 66,
   "id": "d414ca7f",
   "metadata": {},
   "outputs": [
    {
     "data": {
      "text/html": [
       "<div>\n",
       "<style scoped>\n",
       "    .dataframe tbody tr th:only-of-type {\n",
       "        vertical-align: middle;\n",
       "    }\n",
       "\n",
       "    .dataframe tbody tr th {\n",
       "        vertical-align: top;\n",
       "    }\n",
       "\n",
       "    .dataframe thead th {\n",
       "        text-align: right;\n",
       "    }\n",
       "</style>\n",
       "<table border=\"1\" class=\"dataframe\">\n",
       "  <thead>\n",
       "    <tr style=\"text-align: right;\">\n",
       "      <th></th>\n",
       "      <th>Price</th>\n",
       "      <th>Mileage</th>\n",
       "      <th>EngineV</th>\n",
       "      <th>Year</th>\n",
       "      <th>Brand_Audi</th>\n",
       "      <th>Brand_BMW</th>\n",
       "      <th>Brand_Mercedes-Benz</th>\n",
       "      <th>Brand_Mitsubishi</th>\n",
       "      <th>Brand_Renault</th>\n",
       "      <th>Brand_Toyota</th>\n",
       "      <th>Brand_Volkswagen</th>\n",
       "      <th>Body_crossover</th>\n",
       "      <th>Body_hatch</th>\n",
       "      <th>Body_other</th>\n",
       "      <th>Body_sedan</th>\n",
       "      <th>Body_vagon</th>\n",
       "      <th>Body_van</th>\n",
       "      <th>Engine Type_Diesel</th>\n",
       "      <th>Engine Type_Gas</th>\n",
       "      <th>Engine Type_Other</th>\n",
       "      <th>Engine Type_Petrol</th>\n",
       "      <th>Registration_no</th>\n",
       "      <th>Registration_yes</th>\n",
       "    </tr>\n",
       "  </thead>\n",
       "  <tbody>\n",
       "    <tr>\n",
       "      <th>0</th>\n",
       "      <td>4200.0</td>\n",
       "      <td>277</td>\n",
       "      <td>2.0</td>\n",
       "      <td>1991</td>\n",
       "      <td>0</td>\n",
       "      <td>1</td>\n",
       "      <td>0</td>\n",
       "      <td>0</td>\n",
       "      <td>0</td>\n",
       "      <td>0</td>\n",
       "      <td>0</td>\n",
       "      <td>0</td>\n",
       "      <td>0</td>\n",
       "      <td>0</td>\n",
       "      <td>1</td>\n",
       "      <td>0</td>\n",
       "      <td>0</td>\n",
       "      <td>0</td>\n",
       "      <td>0</td>\n",
       "      <td>0</td>\n",
       "      <td>1</td>\n",
       "      <td>0</td>\n",
       "      <td>1</td>\n",
       "    </tr>\n",
       "    <tr>\n",
       "      <th>4</th>\n",
       "      <td>18300.0</td>\n",
       "      <td>120</td>\n",
       "      <td>2.0</td>\n",
       "      <td>2011</td>\n",
       "      <td>0</td>\n",
       "      <td>0</td>\n",
       "      <td>0</td>\n",
       "      <td>0</td>\n",
       "      <td>0</td>\n",
       "      <td>1</td>\n",
       "      <td>0</td>\n",
       "      <td>1</td>\n",
       "      <td>0</td>\n",
       "      <td>0</td>\n",
       "      <td>0</td>\n",
       "      <td>0</td>\n",
       "      <td>0</td>\n",
       "      <td>0</td>\n",
       "      <td>0</td>\n",
       "      <td>0</td>\n",
       "      <td>1</td>\n",
       "      <td>0</td>\n",
       "      <td>1</td>\n",
       "    </tr>\n",
       "  </tbody>\n",
       "</table>\n",
       "</div>"
      ],
      "text/plain": [
       "     Price  Mileage  EngineV  Year  Brand_Audi  Brand_BMW  \\\n",
       "0   4200.0      277      2.0  1991           0          1   \n",
       "4  18300.0      120      2.0  2011           0          0   \n",
       "\n",
       "   Brand_Mercedes-Benz  Brand_Mitsubishi  Brand_Renault  Brand_Toyota  \\\n",
       "0                    0                 0              0             0   \n",
       "4                    0                 0              0             1   \n",
       "\n",
       "   Brand_Volkswagen  Body_crossover  Body_hatch  Body_other  Body_sedan  \\\n",
       "0                 0               0           0           0           1   \n",
       "4                 0               1           0           0           0   \n",
       "\n",
       "   Body_vagon  Body_van  Engine Type_Diesel  Engine Type_Gas  \\\n",
       "0           0         0                   0                0   \n",
       "4           0         0                   0                0   \n",
       "\n",
       "   Engine Type_Other  Engine Type_Petrol  Registration_no  Registration_yes  \n",
       "0                  0                   1                0                 1  \n",
       "4                  0                   1                0                 1  "
      ]
     },
     "execution_count": 66,
     "metadata": {},
     "output_type": "execute_result"
    }
   ],
   "source": [
    "df.head(2)"
   ]
  },
  {
   "cell_type": "markdown",
   "id": "abec2ef0",
   "metadata": {},
   "source": [
    "# Fetching Some More Information Through Pandas Profiling...For Better Understand"
   ]
  },
  {
   "cell_type": "code",
   "execution_count": 68,
   "id": "be6b7ac0",
   "metadata": {},
   "outputs": [],
   "source": [
    "from pandas_profiling import ProfileReport\n",
    "profile = ProfileReport(df,title='Pandas_Profiling',explorative=True)"
   ]
  },
  {
   "cell_type": "code",
   "execution_count": 69,
   "id": "55db2ea2",
   "metadata": {},
   "outputs": [
    {
     "data": {
      "application/vnd.jupyter.widget-view+json": {
       "model_id": "d2b809312689477a814f5735c929ec07",
       "version_major": 2,
       "version_minor": 0
      },
      "text/plain": [
       "Generate report structure:   0%|          | 0/1 [00:00<?, ?it/s]"
      ]
     },
     "metadata": {},
     "output_type": "display_data"
    },
    {
     "data": {
      "application/vnd.jupyter.widget-view+json": {
       "model_id": "",
       "version_major": 2,
       "version_minor": 0
      },
      "text/plain": [
       "Render widgets:   0%|          | 0/1 [00:00<?, ?it/s]"
      ]
     },
     "metadata": {},
     "output_type": "display_data"
    },
    {
     "data": {
      "application/vnd.jupyter.widget-view+json": {
       "model_id": "5835b8690f674b19a4e333c53b4a8b95",
       "version_major": 2,
       "version_minor": 0
      },
      "text/plain": [
       "VBox(children=(Tab(children=(Tab(children=(GridBox(children=(VBox(children=(GridspecLayout(children=(HTML(valu…"
      ]
     },
     "metadata": {},
     "output_type": "display_data"
    }
   ],
   "source": [
    "profile.to_widgets()"
   ]
  },
  {
   "cell_type": "code",
   "execution_count": 70,
   "id": "9f201138",
   "metadata": {},
   "outputs": [
    {
     "data": {
      "application/vnd.jupyter.widget-view+json": {
       "model_id": "0848fba35a314cbea3dfb66493192dcb",
       "version_major": 2,
       "version_minor": 0
      },
      "text/plain": [
       "Render HTML:   0%|          | 0/1 [00:00<?, ?it/s]"
      ]
     },
     "metadata": {},
     "output_type": "display_data"
    },
    {
     "data": {
      "application/vnd.jupyter.widget-view+json": {
       "model_id": "b2338793c953441aa06ae9d2ce5733a3",
       "version_major": 2,
       "version_minor": 0
      },
      "text/plain": [
       "Export report to file:   0%|          | 0/1 [00:00<?, ?it/s]"
      ]
     },
     "metadata": {},
     "output_type": "display_data"
    }
   ],
   "source": [
    "profile.to_file('output.html')"
   ]
  },
  {
   "cell_type": "markdown",
   "id": "eaa379cc",
   "metadata": {},
   "source": [
    "# Training DataSet through train_Test_Split"
   ]
  },
  {
   "cell_type": "code",
   "execution_count": 71,
   "id": "aae519a0",
   "metadata": {},
   "outputs": [],
   "source": [
    "x = df.drop('Price',axis=1)"
   ]
  },
  {
   "cell_type": "code",
   "execution_count": 72,
   "id": "ecd1b14d",
   "metadata": {},
   "outputs": [],
   "source": [
    "y = df['Price']"
   ]
  },
  {
   "cell_type": "code",
   "execution_count": 73,
   "id": "f82f88d6",
   "metadata": {},
   "outputs": [],
   "source": [
    "x_train,x_test,y_train,y_test = train_test_split(x,y,test_size=.25,random_state=0)"
   ]
  },
  {
   "cell_type": "code",
   "execution_count": 74,
   "id": "5a26f269",
   "metadata": {},
   "outputs": [
    {
     "data": {
      "text/plain": [
       "((1974, 22), (1974,))"
      ]
     },
     "execution_count": 74,
     "metadata": {},
     "output_type": "execute_result"
    }
   ],
   "source": [
    "x_train.shape, y_train.shape"
   ]
  },
  {
   "cell_type": "code",
   "execution_count": 76,
   "id": "e75ac4d6",
   "metadata": {},
   "outputs": [
    {
     "data": {
      "text/plain": [
       "((659, 22), (659,))"
      ]
     },
     "execution_count": 76,
     "metadata": {},
     "output_type": "execute_result"
    }
   ],
   "source": [
    "x_test.shape,y_test.shape"
   ]
  },
  {
   "cell_type": "markdown",
   "id": "897074e3",
   "metadata": {},
   "source": [
    "# creating Model With PipeLine"
   ]
  },
  {
   "cell_type": "code",
   "execution_count": 77,
   "id": "ff07a98a",
   "metadata": {},
   "outputs": [],
   "source": [
    "from sklearn.linear_model import LinearRegression\n",
    "from sklearn.tree import DecisionTreeRegressor\n",
    "from sklearn.ensemble import RandomForestRegressor\n",
    "from sklearn.pipeline import Pipeline"
   ]
  },
  {
   "cell_type": "code",
   "execution_count": 79,
   "id": "0389f2b5",
   "metadata": {},
   "outputs": [],
   "source": [
    "LinReg_Pipe = Pipeline([('Lin_Reg',LinearRegression())])\n",
    "DecReg_Pipe = Pipeline([('Dec_Reg',DecisionTreeRegressor())])\n",
    "RenReg_Pipe = Pipeline([('Ren_Reg',RandomForestRegressor())])"
   ]
  },
  {
   "cell_type": "code",
   "execution_count": 80,
   "id": "a7f1cd4f",
   "metadata": {},
   "outputs": [],
   "source": [
    "MyPipeLine = [LinReg_Pipe,DecReg_Pipe,RenReg_Pipe]"
   ]
  },
  {
   "cell_type": "code",
   "execution_count": 81,
   "id": "e8fddbc4",
   "metadata": {},
   "outputs": [],
   "source": [
    "Accuracy = 0.0\n",
    "Classifire = 0\n",
    "PipeLine = ''"
   ]
  },
  {
   "cell_type": "code",
   "execution_count": 82,
   "id": "7734d2cc",
   "metadata": {},
   "outputs": [],
   "source": [
    "Pipe_Dict = {0:'LinearRegression',1:'DecisionTreeRegressor',2:'RandomForestRegressor'}"
   ]
  },
  {
   "cell_type": "code",
   "execution_count": 83,
   "id": "d765d25a",
   "metadata": {},
   "outputs": [],
   "source": [
    "for MyPipe in MyPipeLine:\n",
    "    MyPipe.fit(x_train,y_train)"
   ]
  },
  {
   "cell_type": "markdown",
   "id": "76a53369",
   "metadata": {},
   "source": [
    "# Fetching Score"
   ]
  },
  {
   "cell_type": "code",
   "execution_count": 84,
   "id": "71d97af9",
   "metadata": {},
   "outputs": [
    {
     "name": "stdout",
     "output_type": "stream",
     "text": [
      "Test Accuracy ('LinearRegression', 0.7187866189873161)\n",
      "Test Accuracy ('DecisionTreeRegressor', 0.7620594883744278)\n",
      "Test Accuracy ('RandomForestRegressor', 0.8636329813830874)\n"
     ]
    }
   ],
   "source": [
    "for i,model in enumerate(MyPipeLine):\n",
    "    print(f\"Test Accuracy {Pipe_Dict[i],model.score(x_test,y_test)}\")"
   ]
  },
  {
   "cell_type": "markdown",
   "id": "631494ab",
   "metadata": {},
   "source": [
    "# Fethching Best Model"
   ]
  },
  {
   "cell_type": "code",
   "execution_count": 91,
   "id": "a7fe251a",
   "metadata": {},
   "outputs": [
    {
     "name": "stdout",
     "output_type": "stream",
     "text": [
      "Here Is The Best Model For This Algo\n",
      "\n",
      "RandomForestRegressor()\n",
      "With 86.36% Accuracy\n"
     ]
    }
   ],
   "source": [
    "for i,model in enumerate(MyPipeLine):\n",
    "    if model.score(x_test,y_test)>Accuracy:\n",
    "        Accuracy=model.score(x_test,y_test)\n",
    "        Classifire = i\n",
    "        PipeLine = model\n",
    "print(f\"Here Is The Best Model For This Algo\\n\\n{Pipe_Dict[Classifire]}()\\nWith 86.36% Accuracy\")"
   ]
  },
  {
   "cell_type": "markdown",
   "id": "b2f389d9",
   "metadata": {},
   "source": [
    "# Saving Model"
   ]
  },
  {
   "cell_type": "code",
   "execution_count": 92,
   "id": "d9e89eae",
   "metadata": {},
   "outputs": [],
   "source": [
    "import joblib"
   ]
  },
  {
   "cell_type": "code",
   "execution_count": 93,
   "id": "3d4968f9",
   "metadata": {},
   "outputs": [
    {
     "data": {
      "text/plain": [
       "['Save_Model']"
      ]
     },
     "execution_count": 93,
     "metadata": {},
     "output_type": "execute_result"
    }
   ],
   "source": [
    "joblib.dump(RandomForestRegressor,'Save_Model')"
   ]
  },
  {
   "cell_type": "code",
   "execution_count": null,
   "id": "69913736",
   "metadata": {},
   "outputs": [],
   "source": []
  }
 ],
 "metadata": {
  "kernelspec": {
   "display_name": "Python 3 (ipykernel)",
   "language": "python",
   "name": "python3"
  },
  "language_info": {
   "codemirror_mode": {
    "name": "ipython",
    "version": 3
   },
   "file_extension": ".py",
   "mimetype": "text/x-python",
   "name": "python",
   "nbconvert_exporter": "python",
   "pygments_lexer": "ipython3",
   "version": "3.9.7"
  }
 },
 "nbformat": 4,
 "nbformat_minor": 5
}
